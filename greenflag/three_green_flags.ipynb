{
 "cells": [
  {
   "cell_type": "markdown",
   "metadata": {},
   "source": [
    "- TA-Lib Examples https://mrjbq7.github.io/ta-lib/abstract.html Technical analysis library\n",
    "- Zipline https://www.zipline.io/index.html backtesting library\n",
    "- Pandas Datareader https://pydata.github.io/pandas-datareader/ - read data into pandas\n",
    "- Alphalens https://github.com/quantopian/alphalens\n",
    "- Pyfolio https://github.com/quantopian/pyfolio - Library for performance & risk analysis of financial portfolios\n"
   ]
  },
  {
   "cell_type": "code",
   "execution_count": 2,
   "metadata": {},
   "outputs": [],
   "source": [
    "from datetime import datetime\n",
    "import pandas as pd\n",
    "import pandas_datareader as web\n",
    "import talib\n",
    "import helpers"
   ]
  },
  {
   "cell_type": "code",
   "execution_count": 3,
   "metadata": {},
   "outputs": [],
   "source": [
    "def get_ticker_price_history(ticker, start, end, source='yahoo'):\n",
    "    df = web.DataReader(ticker, source, start, end)\n",
    "    df['ticker'] = ticker\n",
    "    # df = df.set_index('ticker')\n",
    "    return df"
   ]
  },
  {
   "cell_type": "code",
   "execution_count": 4,
   "metadata": {},
   "outputs": [],
   "source": [
    "start = datetime(2016, 1, 1)\n",
    "end = datetime(2020, 9, 1)\n",
    "tickers = ['SPHD', 'SPYD', 'F', 'NRZ']"
   ]
  },
  {
   "cell_type": "code",
   "execution_count": 21,
   "metadata": {},
   "outputs": [],
   "source": [
    "# put portfolio price history in a df\n",
    "df = pd.DataFrame()\n",
    "for ticker in tickers:\n",
    "    tmp = get_ticker_price_history(ticker, start, end, source='yahoo')\n",
    "    df = pd.concat([df, tmp], axis=0)"
   ]
  },
  {
   "cell_type": "code",
   "execution_count": 22,
   "metadata": {},
   "outputs": [
    {
     "data": {
      "text/html": [
       "<div>\n",
       "<style scoped>\n",
       "    .dataframe tbody tr th:only-of-type {\n",
       "        vertical-align: middle;\n",
       "    }\n",
       "\n",
       "    .dataframe tbody tr th {\n",
       "        vertical-align: top;\n",
       "    }\n",
       "\n",
       "    .dataframe thead th {\n",
       "        text-align: right;\n",
       "    }\n",
       "</style>\n",
       "<table border=\"1\" class=\"dataframe\">\n",
       "  <thead>\n",
       "    <tr style=\"text-align: right;\">\n",
       "      <th></th>\n",
       "      <th>high</th>\n",
       "      <th>low</th>\n",
       "      <th>open</th>\n",
       "      <th>close</th>\n",
       "      <th>volume</th>\n",
       "      <th>adj close</th>\n",
       "      <th>ticker</th>\n",
       "    </tr>\n",
       "    <tr>\n",
       "      <th>Date</th>\n",
       "      <th></th>\n",
       "      <th></th>\n",
       "      <th></th>\n",
       "      <th></th>\n",
       "      <th></th>\n",
       "      <th></th>\n",
       "      <th></th>\n",
       "    </tr>\n",
       "  </thead>\n",
       "  <tbody>\n",
       "    <tr>\n",
       "      <th>2016-01-04</th>\n",
       "      <td>33.049999</td>\n",
       "      <td>32.699001</td>\n",
       "      <td>32.970001</td>\n",
       "      <td>33.040001</td>\n",
       "      <td>289500.0</td>\n",
       "      <td>27.232388</td>\n",
       "      <td>SPHD</td>\n",
       "    </tr>\n",
       "    <tr>\n",
       "      <th>2016-01-05</th>\n",
       "      <td>33.380001</td>\n",
       "      <td>32.985001</td>\n",
       "      <td>33.110001</td>\n",
       "      <td>33.349998</td>\n",
       "      <td>158600.0</td>\n",
       "      <td>27.487906</td>\n",
       "      <td>SPHD</td>\n",
       "    </tr>\n",
       "    <tr>\n",
       "      <th>2016-01-06</th>\n",
       "      <td>33.200001</td>\n",
       "      <td>32.958000</td>\n",
       "      <td>33.000000</td>\n",
       "      <td>33.090000</td>\n",
       "      <td>289400.0</td>\n",
       "      <td>27.273609</td>\n",
       "      <td>SPHD</td>\n",
       "    </tr>\n",
       "    <tr>\n",
       "      <th>2016-01-07</th>\n",
       "      <td>32.910000</td>\n",
       "      <td>32.425999</td>\n",
       "      <td>32.700001</td>\n",
       "      <td>32.470001</td>\n",
       "      <td>282600.0</td>\n",
       "      <td>26.762592</td>\n",
       "      <td>SPHD</td>\n",
       "    </tr>\n",
       "    <tr>\n",
       "      <th>2016-01-08</th>\n",
       "      <td>32.669998</td>\n",
       "      <td>32.220001</td>\n",
       "      <td>32.660000</td>\n",
       "      <td>32.299999</td>\n",
       "      <td>265000.0</td>\n",
       "      <td>26.622465</td>\n",
       "      <td>SPHD</td>\n",
       "    </tr>\n",
       "  </tbody>\n",
       "</table>\n",
       "</div>"
      ],
      "text/plain": [
       "                 high        low       open      close    volume  adj close  \\\n",
       "Date                                                                          \n",
       "2016-01-04  33.049999  32.699001  32.970001  33.040001  289500.0  27.232388   \n",
       "2016-01-05  33.380001  32.985001  33.110001  33.349998  158600.0  27.487906   \n",
       "2016-01-06  33.200001  32.958000  33.000000  33.090000  289400.0  27.273609   \n",
       "2016-01-07  32.910000  32.425999  32.700001  32.470001  282600.0  26.762592   \n",
       "2016-01-08  32.669998  32.220001  32.660000  32.299999  265000.0  26.622465   \n",
       "\n",
       "           ticker  \n",
       "Date               \n",
       "2016-01-04   SPHD  \n",
       "2016-01-05   SPHD  \n",
       "2016-01-06   SPHD  \n",
       "2016-01-07   SPHD  \n",
       "2016-01-08   SPHD  "
      ]
     },
     "execution_count": 22,
     "metadata": {},
     "output_type": "execute_result"
    }
   ],
   "source": [
    "df.columns = df.columns.str.lower()\n",
    "df.head()"
   ]
  },
  {
   "cell_type": "code",
   "execution_count": 23,
   "metadata": {},
   "outputs": [],
   "source": [
    "# Make df a multi-index\n",
    "df = df.set_index(['ticker', df.index]).sort_index()"
   ]
  },
  {
   "cell_type": "code",
   "execution_count": 25,
   "metadata": {},
   "outputs": [
    {
     "data": {
      "text/plain": [
       "Date\n",
       "2016-01-04    10.590919\n",
       "2016-01-05    10.401392\n",
       "2016-01-06     9.938939\n",
       "2016-01-07     9.628110\n",
       "2016-01-08     9.506811\n",
       "                ...    \n",
       "2020-08-26     6.820000\n",
       "2020-08-27     6.910000\n",
       "2020-08-28     6.940000\n",
       "2020-08-31     6.820000\n",
       "2020-09-01     6.830000\n",
       "Name: adj close, Length: 1175, dtype: float64"
      ]
     },
     "execution_count": 25,
     "metadata": {},
     "output_type": "execute_result"
    }
   ],
   "source": [
    "df.loc['F']['adj close']"
   ]
  },
  {
   "cell_type": "code",
   "execution_count": 34,
   "metadata": {},
   "outputs": [
    {
     "data": {
      "text/plain": [
       "array([       nan,        nan,        nan, ..., 6.89600002, 6.90133336,\n",
       "       6.90633337])"
      ]
     },
     "execution_count": 34,
     "metadata": {},
     "output_type": "execute_result"
    }
   ],
   "source": [
    "SMA = abstract.SMA\n",
    "SMA = abstract.Function('SMA')\n",
    "SMA(df.loc['F']['adj close'], timeperiod=30)\n",
    "\n",
    "def ema(dataframe, period, field='close'):\n",
    "    import talib.abstract as ta\n",
    "    return ta.EMA(dataframe, timeperiod=period, price=field)"
   ]
  },
  {
   "cell_type": "code",
   "execution_count": 8,
   "metadata": {},
   "outputs": [],
   "source": [
    "# from talib import abstract\n",
    "from talib.abstract import *\n",
    "sma = abstract.SMA\n",
    "sma = abstract.Function('sma')\n",
    "\n",
    "ma10 = SMA(timeperiod=10)\n",
    "ma20 = SMA(20)\n",
    "\n",
    "output = SMA(input_arrays, timeperiod=25) # calculate on close prices by default\n",
    "output = SMA(input_arrays, timeperiod=25, price='open') # calculate on opens\n",
    "upper, middle, lower = BBANDS(input_arrays, 20, 2, 2)\n",
    "slowk, slowd = STOCH(input_arrays, 5, 3, 0, 3, 0) # uses high, low, close by default\n",
    "slowk, slowd = STOCH(input_arrays, 5, 3, 0, 3, 0, prices=['high', 'low', 'open'])"
   ]
  },
  {
   "cell_type": "code",
   "execution_count": 7,
   "metadata": {},
   "outputs": [
    {
     "name": "stdout",
     "output_type": "stream",
     "text": [
      "['HT_DCPERIOD', 'HT_DCPHASE', 'HT_PHASOR', 'HT_SINE', 'HT_TRENDMODE', 'ADD', 'DIV', 'MAX', 'MAXINDEX', 'MIN', 'MININDEX', 'MINMAX', 'MINMAXINDEX', 'MULT', 'SUB', 'SUM', 'ACOS', 'ASIN', 'ATAN', 'CEIL', 'COS', 'COSH', 'EXP', 'FLOOR', 'LN', 'LOG10', 'SIN', 'SINH', 'SQRT', 'TAN', 'TANH', 'ADX', 'ADXR', 'APO', 'AROON', 'AROONOSC', 'BOP', 'CCI', 'CMO', 'DX', 'MACD', 'MACDEXT', 'MACDFIX', 'MFI', 'MINUS_DI', 'MINUS_DM', 'MOM', 'PLUS_DI', 'PLUS_DM', 'PPO', 'ROC', 'ROCP', 'ROCR', 'ROCR100', 'RSI', 'STOCH', 'STOCHF', 'STOCHRSI', 'TRIX', 'ULTOSC', 'WILLR', 'BBANDS', 'DEMA', 'EMA', 'HT_TRENDLINE', 'KAMA', 'MA', 'MAMA', 'MAVP', 'MIDPOINT', 'MIDPRICE', 'SAR', 'SAREXT', 'SMA', 'T3', 'TEMA', 'TRIMA', 'WMA', 'CDL2CROWS', 'CDL3BLACKCROWS', 'CDL3INSIDE', 'CDL3LINESTRIKE', 'CDL3OUTSIDE', 'CDL3STARSINSOUTH', 'CDL3WHITESOLDIERS', 'CDLABANDONEDBABY', 'CDLADVANCEBLOCK', 'CDLBELTHOLD', 'CDLBREAKAWAY', 'CDLCLOSINGMARUBOZU', 'CDLCONCEALBABYSWALL', 'CDLCOUNTERATTACK', 'CDLDARKCLOUDCOVER', 'CDLDOJI', 'CDLDOJISTAR', 'CDLDRAGONFLYDOJI', 'CDLENGULFING', 'CDLEVENINGDOJISTAR', 'CDLEVENINGSTAR', 'CDLGAPSIDESIDEWHITE', 'CDLGRAVESTONEDOJI', 'CDLHAMMER', 'CDLHANGINGMAN', 'CDLHARAMI', 'CDLHARAMICROSS', 'CDLHIGHWAVE', 'CDLHIKKAKE', 'CDLHIKKAKEMOD', 'CDLHOMINGPIGEON', 'CDLIDENTICAL3CROWS', 'CDLINNECK', 'CDLINVERTEDHAMMER', 'CDLKICKING', 'CDLKICKINGBYLENGTH', 'CDLLADDERBOTTOM', 'CDLLONGLEGGEDDOJI', 'CDLLONGLINE', 'CDLMARUBOZU', 'CDLMATCHINGLOW', 'CDLMATHOLD', 'CDLMORNINGDOJISTAR', 'CDLMORNINGSTAR', 'CDLONNECK', 'CDLPIERCING', 'CDLRICKSHAWMAN', 'CDLRISEFALL3METHODS', 'CDLSEPARATINGLINES', 'CDLSHOOTINGSTAR', 'CDLSHORTLINE', 'CDLSPINNINGTOP', 'CDLSTALLEDPATTERN', 'CDLSTICKSANDWICH', 'CDLTAKURI', 'CDLTASUKIGAP', 'CDLTHRUSTING', 'CDLTRISTAR', 'CDLUNIQUE3RIVER', 'CDLUPSIDEGAP2CROWS', 'CDLXSIDEGAP3METHODS', 'AVGPRICE', 'MEDPRICE', 'TYPPRICE', 'WCLPRICE', 'BETA', 'CORREL', 'LINEARREG', 'LINEARREG_ANGLE', 'LINEARREG_INTERCEPT', 'LINEARREG_SLOPE', 'STDDEV', 'TSF', 'VAR', 'ATR', 'NATR', 'TRANGE', 'AD', 'ADOSC', 'OBV']\n"
     ]
    }
   ],
   "source": [
    "print(talib.get_functions())"
   ]
  },
  {
   "cell_type": "code",
   "execution_count": 5,
   "metadata": {},
   "outputs": [],
   "source": [
    "\n"
   ]
  },
  {
   "cell_type": "code",
   "execution_count": null,
   "metadata": {},
   "outputs": [],
   "source": []
  }
 ],
 "metadata": {
  "kernelspec": {
   "display_name": "Python [conda env:gf]",
   "language": "python",
   "name": "conda-env-gf-py"
  },
  "language_info": {
   "codemirror_mode": {
    "name": "ipython",
    "version": 3
   },
   "file_extension": ".py",
   "mimetype": "text/x-python",
   "name": "python",
   "nbconvert_exporter": "python",
   "pygments_lexer": "ipython3",
   "version": "3.6.12"
  }
 },
 "nbformat": 4,
 "nbformat_minor": 4
}
